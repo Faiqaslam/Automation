{
 "cells": [
  {
   "cell_type": "code",
   "execution_count": 1,
   "metadata": {},
   "outputs": [],
   "source": [
    "from selenium import webdriver\n",
    "from selenium.webdriver.chrome.options import Options\n",
    "import time\n",
    "from urllib.parse import quote\n",
    "from PIL import Image"
   ]
  },
  {
   "cell_type": "code",
   "execution_count": 2,
   "metadata": {},
   "outputs": [],
   "source": [
    "def capture_screenshot(url):\n",
    "    options = Options()\n",
    "    options.add_argument('--headless')  # Set the browser to run in headless mode\n",
    "\n",
    "    # Initialize the Chrome driver\n",
    "    driver = webdriver.Chrome(options=options)\n",
    "    driver.get(url)\n",
    "    print(f\"Capturing screenshot for: {url}\")\n",
    "\n",
    "    # Set initial window size for full page capture\n",
    "    initial_width = driver.execute_script(\"return Math.max(document.body.scrollWidth, document.body.offsetWidth, document.documentElement.clientWidth, document.documentElement.scrollWidth, document.documentElement.offsetWidth);\")\n",
    "    driver.set_window_size(initial_width, driver.get_window_size()['height'])\n",
    "\n",
    "    # Scroll down the page to capture full content\n",
    "    SCROLL_PAUSE_TIME = 2  # Adjust as needed\n",
    "    last_height = driver.execute_script(\"return document.body.scrollHeight\")\n",
    "    while True:\n",
    "        driver.execute_script(\"window.scrollTo(0, document.body.scrollHeight);\")\n",
    "        time.sleep(SCROLL_PAUSE_TIME)\n",
    "        new_height = driver.execute_script(\"return document.body.scrollHeight\")\n",
    "        if new_height == last_height:\n",
    "            break\n",
    "        last_height = new_height\n",
    "    # Take individual screenshots and save them\n",
    "    total_height = driver.execute_script(\"return document.body.scrollHeight\")\n",
    "    driver.set_window_size(initial_width, total_height)\n",
    "    \n",
    "    scroll_position = 0\n",
    "    screenshot_counter = 0\n",
    "    while scroll_position < total_height:\n",
    "        driver.execute_script(f\"window.scrollTo(0, {scroll_position});\")\n",
    "        driver.save_screenshot(f\"images/screenshot_{screenshot_counter}.png\")\n",
    "        screenshot_counter += 1\n",
    "        scroll_position += driver.get_window_size()['height']\n",
    "\n",
    "    imgs = [Image.open(f'images/screenshot_{i}.png') for i in range(screenshot_counter)]\n",
    "    imgs_comb = Image.new('RGB', (imgs[0].width, sum(img.height for img in imgs)))\n",
    "    y = 0\n",
    "    for img in imgs:\n",
    "        imgs_comb.paste(img, (0, y))\n",
    "        y += img.height\n",
    "    filename = quote(url, safe='').replace('/', '_')\n",
    "    imgs_comb.save(f'images/{filename}.png')\n",
    "    #print('Full screenshot captured')\n",
    "    print(f\"Screenshot saved for: {url}\")\n"
   ]
  },
  {
   "cell_type": "code",
   "execution_count": 3,
   "metadata": {},
   "outputs": [],
   "source": [
    "URL = [\n",
    "    'https://www.calliopee.ch/domiciliation',\n",
    "    'https://www.calliopee.ch/business-center',\n",
    "    # Add more URLs as needed\n",
    "]"
   ]
  },
  {
   "cell_type": "code",
   "execution_count": 4,
   "metadata": {},
   "outputs": [
    {
     "name": "stdout",
     "output_type": "stream",
     "text": [
      "Capturing screenshot for: https://www.calliopee.ch/domiciliation\n",
      "Screenshot saved for: https://www.calliopee.ch/domiciliation\n",
      "Capturing screenshot for: https://www.calliopee.ch/business-center\n",
      "Screenshot saved for: https://www.calliopee.ch/business-center\n"
     ]
    }
   ],
   "source": [
    "for url in URL:\n",
    "    capture_screenshot(url)"
   ]
  }
 ],
 "metadata": {
  "kernelspec": {
   "display_name": "jupyter",
   "language": "python",
   "name": "python3"
  },
  "language_info": {
   "codemirror_mode": {
    "name": "ipython",
    "version": 3
   },
   "file_extension": ".py",
   "mimetype": "text/x-python",
   "name": "python",
   "nbconvert_exporter": "python",
   "pygments_lexer": "ipython3",
   "version": "3.11.6"
  }
 },
 "nbformat": 4,
 "nbformat_minor": 2
}
